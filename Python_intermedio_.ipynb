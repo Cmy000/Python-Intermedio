{
  "nbformat": 4,
  "nbformat_minor": 0,
  "metadata": {
    "colab": {
      "name": "Python intermedio.ipynb",
      "provenance": []
    },
    "kernelspec": {
      "name": "python3",
      "display_name": "Python 3"
    },
    "language_info": {
      "name": "python"
    }
  },
  "cells": [
    {
      "cell_type": "markdown",
      "source": [
        "## Tupla"
      ],
      "metadata": {
        "id": "0rmZuzH1AH_y"
      }
    },
    {
      "cell_type": "code",
      "execution_count": null,
      "metadata": {
        "colab": {
          "base_uri": "https://localhost:8080/"
        },
        "id": "V-AFV8WRACSZ",
        "outputId": "68766346-b7bc-4f6d-8f16-8d048f14c373"
      },
      "outputs": [
        {
          "output_type": "stream",
          "name": "stdout",
          "text": [
            "tipo: <class 'tuple'> tamaño: 3 valores: (13, 8.79, 'nombre')\n",
            "pos 1: 8.79\n",
            "a = 13 b = 8.79 c = nombre\n"
          ]
        }
      ],
      "source": [
        "tupla = 13, 8.79, 'nombre'\n",
        "print('tipo:', type(tupla), 'tamaño:', len(tupla), 'valores:', tupla)\n",
        "print('posición 1 de la tupla:', tupla[1])\n",
        "\n",
        "a, b, c = tupla  # desempaquetado\n",
        "print('a =', a, 'b =', b, 'c =', c)"
      ]
    },
    {
      "cell_type": "code",
      "source": [
        "tupla2= (2, 25, 32)\n",
        "print('tipo:', type(tupla2), 'tamaño:', len(tupla2), 'valores:', tupla2)\n",
        "print('pos 1 de la tupla2:', tupla2[1])\n",
        "\n",
        "\n",
        "a, b, c = tupla2  # desempaquetado\n",
        "print('a =', a, 'b =', b, 'c =', c)"
      ],
      "metadata": {
        "colab": {
          "base_uri": "https://localhost:8080/"
        },
        "id": "c85WE9WbASsr",
        "outputId": "c171f451-da05-4ee6-990b-e86ef2dd5a14"
      },
      "execution_count": null,
      "outputs": [
        {
          "output_type": "stream",
          "name": "stdout",
          "text": [
            "tipo: <class 'tuple'> tamaño: 3 valores: (2, 25, 32)\n",
            "pos 1 de la tupla2: 25\n",
            "a = 2 b = 25 c = 32\n"
          ]
        }
      ]
    },
    {
      "cell_type": "code",
      "source": [
        "tupladetupla= (tupla, tupla, (2,3,2))\n",
        "print('tipo:', type(tupladetupla), 'tamaño:', len(tupladetupla), 'valores:', tupladetupla)\n",
        "print('pos 1 de la tupla de tuplas:', tupladetupla[1])\n",
        "\n",
        "\n",
        "a, b, c = tupladetupla  # desempaquetado\n",
        "print('a =', a, 'b =', b, 'c =', c)"
      ],
      "metadata": {
        "colab": {
          "base_uri": "https://localhost:8080/"
        },
        "id": "K1P2YYzEBLD7",
        "outputId": "4cc80f33-1143-4200-c905-d29a36dfc3a9"
      },
      "execution_count": null,
      "outputs": [
        {
          "output_type": "stream",
          "name": "stdout",
          "text": [
            "tipo: <class 'tuple'> tamaño: 3 valores: ((13, 8.79, 'nombre'), (13, 8.79, 'nombre'), (2, 3, 2))\n",
            "pos 1 de la tupla de tuplas: (13, 8.79, 'nombre')\n",
            "a = (13, 8.79, 'nombre') b = (13, 8.79, 'nombre') c = (2, 3, 2)\n"
          ]
        }
      ]
    },
    {
      "cell_type": "code",
      "source": [
        "tu= (1,2,2,3,5,2,5,6)\n",
        "# En esta tupla guardamos la cantidad de hijos de un grupo de 8 personas, a continuación podremos contar con el método count, cuántos tienen 2 hijos.\n",
        "tu.count(2)"
      ],
      "metadata": {
        "colab": {
          "base_uri": "https://localhost:8080/"
        },
        "id": "m46b-TxdCM67",
        "outputId": "bfb98b1b-4f78-4cf4-cc85-1aed841231dc"
      },
      "execution_count": null,
      "outputs": [
        {
          "output_type": "execute_result",
          "data": {
            "text/plain": [
              "3"
            ]
          },
          "metadata": {},
          "execution_count": 6
        }
      ]
    },
    {
      "cell_type": "markdown",
      "source": [
        "## Listas\n"
      ],
      "metadata": {
        "id": "FNgD7bWDB7Cl"
      }
    },
    {
      "cell_type": "code",
      "source": [
        "lst_ent = [1, 2, 3, 4, 5]\n",
        "lst_real = [1.0, 2.1, 4.8, 6.2]\n",
        "lst_fecha = [\"Martes\", 29, 'de Enero', 2019]"
      ],
      "metadata": {
        "id": "Ms8S6kuJB6bK"
      },
      "execution_count": null,
      "outputs": []
    },
    {
      "cell_type": "code",
      "source": [
        "lst_uno = []\n",
        "lst_dos = list()\n",
        "print(lst_uno)\n",
        "print('cantidad elementos en lista: ',len(lst_uno))"
      ],
      "metadata": {
        "colab": {
          "base_uri": "https://localhost:8080/"
        },
        "id": "O12r4OWcEQCL",
        "outputId": "fb399196-10b6-473d-c921-71aa3062c19d"
      },
      "execution_count": null,
      "outputs": [
        {
          "output_type": "stream",
          "name": "stdout",
          "text": [
            "[]\n",
            "cantidad elementos en lista:  0\n"
          ]
        }
      ]
    },
    {
      "cell_type": "markdown",
      "source": [
        "### Generación automática con rangos"
      ],
      "metadata": {
        "id": "syEgEzDxHuim"
      }
    },
    {
      "cell_type": "code",
      "source": [
        "gen = range(10)\n",
        "gen"
      ],
      "metadata": {
        "colab": {
          "base_uri": "https://localhost:8080/"
        },
        "id": "9-2JZ8-KERtq",
        "outputId": "0a432334-7de9-4275-f6fc-b8be3273e964"
      },
      "execution_count": null,
      "outputs": [
        {
          "output_type": "execute_result",
          "data": {
            "text/plain": [
              "range(0, 10)"
            ]
          },
          "metadata": {},
          "execution_count": 9
        }
      ]
    },
    {
      "cell_type": "code",
      "source": [
        "list(gen)"
      ],
      "metadata": {
        "colab": {
          "base_uri": "https://localhost:8080/"
        },
        "id": "Fh76oX6tHnp9",
        "outputId": "dd4dbcea-207f-46ce-fd0b-8752e997ecc2"
      },
      "execution_count": null,
      "outputs": [
        {
          "output_type": "execute_result",
          "data": {
            "text/plain": [
              "[0, 1, 2, 3, 4, 5, 6, 7, 8, 9]"
            ]
          },
          "metadata": {},
          "execution_count": 10
        }
      ]
    },
    {
      "cell_type": "markdown",
      "source": [
        "### Agregando y removiendo elementos"
      ],
      "metadata": {
        "id": "wvDMdhfvH0nG"
      }
    },
    {
      "cell_type": "code",
      "source": [
        "#Usando append\n",
        "lst_uno.append(\"uno\")\n",
        "\n",
        "lst_uno"
      ],
      "metadata": {
        "colab": {
          "base_uri": "https://localhost:8080/"
        },
        "id": "0nqXzOjeHsoU",
        "outputId": "67539c7c-2342-4117-be47-a89daeee82a9"
      },
      "execution_count": null,
      "outputs": [
        {
          "output_type": "execute_result",
          "data": {
            "text/plain": [
              "['uno']"
            ]
          },
          "metadata": {},
          "execution_count": 31
        }
      ]
    },
    {
      "cell_type": "code",
      "source": [
        "#Usando insert, requiere el índice\n",
        "lst_uno.insert(1, \"Batman\")\n",
        "lst_uno.insert(2, \"Iron Man\")\n",
        "lst_uno.insert(3, \"Capitán América\")\n",
        "lst_uno"
      ],
      "metadata": {
        "colab": {
          "base_uri": "https://localhost:8080/"
        },
        "id": "Ihm-Azy3IR6D",
        "outputId": "ed8d9f53-8a42-4491-9b0d-e9749316f61d"
      },
      "execution_count": null,
      "outputs": [
        {
          "output_type": "execute_result",
          "data": {
            "text/plain": [
              "['uno', 'Batman', 'Iron Man', 'Capitán América']"
            ]
          },
          "metadata": {},
          "execution_count": 32
        }
      ]
    },
    {
      "cell_type": "code",
      "source": [
        "#Usando pop para eliminar o remover\n",
        "lst_uno.pop(0)\n",
        "print(lst_uno)"
      ],
      "metadata": {
        "colab": {
          "base_uri": "https://localhost:8080/"
        },
        "id": "m9vAMjHxItQ0",
        "outputId": "f31109fd-a3db-44cb-b80f-754482f35919"
      },
      "execution_count": null,
      "outputs": [
        {
          "output_type": "stream",
          "name": "stdout",
          "text": [
            "['Batman', 'Iron Man', 'Capitán América']\n"
          ]
        }
      ]
    },
    {
      "cell_type": "code",
      "source": [
        "#Usando remove para eliminar de la lista el elemento que nombramos\n",
        "lst_uno.remove(\"Batman\")"
      ],
      "metadata": {
        "id": "z7k_XfVaJ9uB"
      },
      "execution_count": null,
      "outputs": []
    },
    {
      "cell_type": "code",
      "source": [
        "print(lst_uno)"
      ],
      "metadata": {
        "colab": {
          "base_uri": "https://localhost:8080/"
        },
        "id": "xYWtkURjKMsN",
        "outputId": "d470ef80-384a-4905-d5ec-4bb98b52c931"
      },
      "execution_count": null,
      "outputs": [
        {
          "output_type": "stream",
          "name": "stdout",
          "text": [
            "['Iron Man', 'Capitán América']\n"
          ]
        }
      ]
    },
    {
      "cell_type": "markdown",
      "source": [
        "### Agregar elementos a la lista y ordenarlos"
      ],
      "metadata": {
        "id": "Y_5Ys_f_KsSq"
      }
    },
    {
      "cell_type": "code",
      "source": [
        "lst_dos.extend(\"Capitana Marvel\")\n",
        "print(lst_dos)"
      ],
      "metadata": {
        "colab": {
          "base_uri": "https://localhost:8080/"
        },
        "id": "km96qHuvKryy",
        "outputId": "db363ffb-53b9-4f1f-c7ab-a7fe501edb0d"
      },
      "execution_count": null,
      "outputs": [
        {
          "output_type": "stream",
          "name": "stdout",
          "text": [
            "['C', 'a', 'p', 'i', 't', 'a', 'n', 'a', ' ', 'M', 'a', 'r', 'v', 'e', 'l']\n"
          ]
        }
      ]
    },
    {
      "cell_type": "code",
      "source": [
        "lst_uno =lst_uno + [\"Thor\", \"Hulk\"]\n",
        "print(lst_uno)"
      ],
      "metadata": {
        "colab": {
          "base_uri": "https://localhost:8080/"
        },
        "id": "ZDQa8V0QLpIV",
        "outputId": "fe4c25c3-4aa2-40a9-a436-ef48f7437b54"
      },
      "execution_count": null,
      "outputs": [
        {
          "output_type": "stream",
          "name": "stdout",
          "text": [
            "['Iron Man', 'Capitán América', 'Thor', 'Hulk']\n"
          ]
        }
      ]
    },
    {
      "cell_type": "code",
      "source": [
        "a= [1,2,25,39,8,75,5,89,15,68]\n",
        "a.sort()\n",
        "a"
      ],
      "metadata": {
        "colab": {
          "base_uri": "https://localhost:8080/"
        },
        "id": "8j_2OHDKMfAg",
        "outputId": "5cd57c0c-2465-4e18-d2bf-dd5cc7a4e760"
      },
      "execution_count": null,
      "outputs": [
        {
          "output_type": "execute_result",
          "data": {
            "text/plain": [
              "[1, 2, 5, 8, 15, 25, 39, 68, 75, 89]"
            ]
          },
          "metadata": {},
          "execution_count": 44
        }
      ]
    },
    {
      "cell_type": "code",
      "source": [
        "lst_uno.sort(key=len)\n",
        "lst_uno"
      ],
      "metadata": {
        "colab": {
          "base_uri": "https://localhost:8080/"
        },
        "id": "_242bMXENL2Z",
        "outputId": "555c69cf-f6e6-4ab0-8cd0-b89af12cd9f3"
      },
      "execution_count": null,
      "outputs": [
        {
          "output_type": "execute_result",
          "data": {
            "text/plain": [
              "['Thor', 'Hulk', 'Iron Man', 'Capitán América']"
            ]
          },
          "metadata": {},
          "execution_count": 45
        }
      ]
    },
    {
      "cell_type": "code",
      "source": [
        "valores = \"32,45,11,87,20,48\"\n",
        "int_val =[]\n",
        "\n",
        "for val in valores.split(\",\"):\n",
        "  int_valores = int(val)\n",
        "  int_val.append(int_valores)\n",
        "\n",
        "int_val "
      ],
      "metadata": {
        "colab": {
          "base_uri": "https://localhost:8080/"
        },
        "id": "d7rZPKyDa517",
        "outputId": "e3a783f9-c234-4b4b-aed5-ae56510adf59"
      },
      "execution_count": null,
      "outputs": [
        {
          "output_type": "execute_result",
          "data": {
            "text/plain": [
              "[32, 45, 11, 87, 20, 48]"
            ]
          },
          "metadata": {},
          "execution_count": 6
        }
      ]
    },
    {
      "cell_type": "code",
      "source": [
        "int_val = [int(val) for val in valores.split(\",\")]\n",
        "int_val"
      ],
      "metadata": {
        "colab": {
          "base_uri": "https://localhost:8080/"
        },
        "id": "qXw_GSbCc0tJ",
        "outputId": "87a5c7b4-9135-42e5-ab5c-18ae006a1f0a"
      },
      "execution_count": null,
      "outputs": [
        {
          "output_type": "execute_result",
          "data": {
            "text/plain": [
              "[32, 45, 11, 87, 20, 48]"
            ]
          },
          "metadata": {},
          "execution_count": 7
        }
      ]
    },
    {
      "cell_type": "markdown",
      "source": [
        "## Conjuntos"
      ],
      "metadata": {
        "id": "LJqeDfKJNziF"
      }
    },
    {
      "cell_type": "code",
      "source": [
        "text3 = 'To be or not to be'\n",
        "text4 = text3.split(' ')\n",
        "print(text4)\n",
        "print(len(text4))\n",
        "\n",
        "w3 = set(text4)\n",
        "print(w3)\n",
        "print(len(w3))\n",
        "\n",
        "w4 = set([word.lower() for word in text4])\n",
        "print(w4)"
      ],
      "metadata": {
        "colab": {
          "base_uri": "https://localhost:8080/"
        },
        "id": "jbuziScfNyv3",
        "outputId": "a0257292-f39c-48e4-8159-fa8fa6b5bedd"
      },
      "execution_count": null,
      "outputs": [
        {
          "output_type": "stream",
          "name": "stdout",
          "text": [
            "['To', 'be', 'or', 'not', 'to', 'be']\n",
            "6\n",
            "{'be', 'To', 'to', 'or', 'not'}\n",
            "5\n",
            "{'to', 'or', 'be', 'not'}\n"
          ]
        }
      ]
    },
    {
      "cell_type": "code",
      "source": [
        "baloto= {21, 5, 12, 35, 22, 45, 45, 5}\n",
        "baloto"
      ],
      "metadata": {
        "colab": {
          "base_uri": "https://localhost:8080/"
        },
        "id": "lYJyEEAzhQlr",
        "outputId": "b2f79eb9-7159-45ac-dee5-aff08d3c6413"
      },
      "execution_count": null,
      "outputs": [
        {
          "output_type": "execute_result",
          "data": {
            "text/plain": [
              "{5, 12, 21, 22, 35, 45}"
            ]
          },
          "metadata": {},
          "execution_count": 10
        }
      ]
    },
    {
      "cell_type": "code",
      "source": [
        "set(\"reverse\")"
      ],
      "metadata": {
        "colab": {
          "base_uri": "https://localhost:8080/"
        },
        "id": "RaEHqVmZiC67",
        "outputId": "21bfebb1-e85e-405a-d5aa-e38f420f9d15"
      },
      "execution_count": null,
      "outputs": [
        {
          "output_type": "execute_result",
          "data": {
            "text/plain": [
              "{'e', 'r', 's', 'v'}"
            ]
          },
          "metadata": {},
          "execution_count": 11
        }
      ]
    },
    {
      "cell_type": "code",
      "source": [
        "baloto.add(12)\n",
        "baloto"
      ],
      "metadata": {
        "colab": {
          "base_uri": "https://localhost:8080/"
        },
        "id": "9W8HmJifiRQ0",
        "outputId": "36420eee-dfc8-4175-9b91-b8144ca0f003"
      },
      "execution_count": null,
      "outputs": [
        {
          "output_type": "execute_result",
          "data": {
            "text/plain": [
              "{5, 12, 21, 22, 35, 45}"
            ]
          },
          "metadata": {},
          "execution_count": 14
        }
      ]
    },
    {
      "cell_type": "code",
      "source": [
        "#Operadores de conjuntos y pertenencia a conjuntos\n",
        "print(1 in baloto, 5 in baloto)\n",
        "revancha= {21, 25, 35, 39, 23}\n",
        "print(\"Suma o unión: \", baloto | revancha, \"Intersección o &: \", baloto.intersection(revancha), \"Diferencia: \", baloto-revancha)"
      ],
      "metadata": {
        "colab": {
          "base_uri": "https://localhost:8080/"
        },
        "id": "tBzup5eji0Ur",
        "outputId": "19add46b-e742-40f1-e3e6-e280c9b16844"
      },
      "execution_count": null,
      "outputs": [
        {
          "output_type": "stream",
          "name": "stdout",
          "text": [
            "False True\n",
            "Suma o unión:  {35, 5, 39, 12, 45, 21, 22, 23, 25} Intersección o &:  {35, 21} Diferencia:  {45, 12, 5, 22}\n"
          ]
        }
      ]
    },
    {
      "cell_type": "markdown",
      "source": [
        "## Diccionarios"
      ],
      "metadata": {
        "id": "kRLZfDdc4nKJ"
      }
    },
    {
      "cell_type": "code",
      "source": [
        "edad = {'juan': 23, 'pablo': 60, 'zoe':16}\n",
        "edad['july'] =  27   # agregar elemento\n",
        "edad['soe']  =  33   # modfica un elemento\n",
        "print('diccionario actual:', edad)\n",
        "\n",
        "print(edad['pablo'])  # obtener una edad con la clave\n",
        "\n",
        "del edad['juan'] # Borrar un elemento\n",
        "edad['jose'] = 25 \n",
        "print('diccionario actual:', edad)\n",
        "\n",
        "print('Lista del diccionario', list(edad))\n",
        "\n",
        "print('diccionario ordenado:', sorted(edad))\n",
        "\n",
        "print('Buscar en el diccionario con in')\n",
        "print('soe' in edad)\n",
        "print('juan' in edad)\n",
        "print('jorge' not in edad)"
      ],
      "metadata": {
        "colab": {
          "base_uri": "https://localhost:8080/"
        },
        "id": "dT_6jg6P4Xrc",
        "outputId": "40770eb3-a0aa-4b2a-f2e6-142de29d82bc"
      },
      "execution_count": null,
      "outputs": [
        {
          "output_type": "stream",
          "name": "stdout",
          "text": [
            "diccionario actual: {'juan': 23, 'pablo': 60, 'zoe': 16, 'july': 27, 'soe': 33}\n",
            "60\n",
            "diccionario actual: {'pablo': 60, 'zoe': 16, 'july': 27, 'soe': 33, 'jose': 25}\n",
            "Lista del diccionario ['pablo', 'zoe', 'july', 'soe', 'jose']\n",
            "diccionario ordenado: ['jose', 'july', 'pablo', 'soe', 'zoe']\n",
            "Buscar en el diccionario con in\n",
            "True\n",
            "False\n",
            "True\n"
          ]
        }
      ]
    },
    {
      "cell_type": "markdown",
      "source": [
        "## JSON data"
      ],
      "metadata": {
        "id": "xjwIgSaHEkGD"
      }
    },
    {
      "cell_type": "code",
      "source": [
        "import json"
      ],
      "metadata": {
        "id": "pWX-aCLHGI7_"
      },
      "execution_count": null,
      "outputs": []
    },
    {
      "cell_type": "code",
      "source": [
        "## JSON data\n",
        "obj = \"\"\"\n",
        "{\"nombre\": \"Will\",\n",
        "\"dondevive\": [\"USA\", \"España\", \"Colombia\"],\n",
        "\"pet\": null,\n",
        "\"hermanas\": [{\"nombre\": \"Silvia\", \"edad\": 20, \"mascotas\": [\"Trueno\", \"Zuko\"] },\n",
        "{\"name\": \"Katie\", \"edad\": 25, \"mascotas\": [\"Zuko\", \"Cisco\", \"Tob\"]}]\n",
        "}\n",
        "\"\"\""
      ],
      "metadata": {
        "id": "qrUkuwmYEXKa"
      },
      "execution_count": null,
      "outputs": []
    },
    {
      "cell_type": "code",
      "source": [
        "obj"
      ],
      "metadata": {
        "colab": {
          "base_uri": "https://localhost:8080/",
          "height": 53
        },
        "id": "6LQzFMyNGRsA",
        "outputId": "15e970a5-538f-4597-d4ea-cbcf09505651"
      },
      "execution_count": null,
      "outputs": [
        {
          "output_type": "execute_result",
          "data": {
            "text/plain": [
              "'\\n{\"nombre\": \"Will\",\\n\"dondevive\": [\"USA\", \"España\", \"Colombia\"],\\n\"pet\": null,\\n\"hermanas\": [{\"nombre\": \"Silvia\", \"edad\": 20, \"mascotas\": [\"Trueno\", \"Zuko\"] },\\n{\"name\": \"Katie\", \"edad\": 25, \"mascotas\": [\"Zuko\", \"Cisco\", \"Tob\"]}]\\n}\\n'"
            ],
            "application/vnd.google.colaboratory.intrinsic+json": {
              "type": "string"
            }
          },
          "metadata": {},
          "execution_count": 27
        }
      ]
    },
    {
      "cell_type": "markdown",
      "source": [
        "A) Solicitar al usuario que ingrese números, los cuales se guardarán en una lista. Finalizar al ingresar el número 0, el cual no debe guardarse.\n",
        "B) A continuación, solicitar al usuario que ingrese un número y, si el número está en la lista, eliminar su primera ocurrencia. Mostrar un mensaje si no es posible eliminar.\n",
        "C) Recorrer la lista para imprimir la sumatoria de todos los elementos.\n",
        "D) Solicitar al usuario otro número y crear una lista con los elementos de la lista original que sean menores que el número dado. Imprimir esta nueva lista, iterando por ella.\n",
        "E) Generar e imprimir una nueva lista que contenga como elementos a tuplas de dos elementos, cada una compuesta por un número de la lista original y la cantidad de veces que aparece en ella. Por ejemplo, si la lista original es [5,16,2,5,57,5,2] la nueva lista contendrá: [(5,3), (16,1), (2,2), (57,1)]"
      ],
      "metadata": {
        "id": "LTcCIwmxG4vM"
      }
    },
    {
      "cell_type": "code",
      "source": [
        "#Crear lista vacía\n",
        "lista =list()\n",
        "#print(lista)\n",
        "# A. Solicitar al usuario ingresar números\n",
        "while not 0 in lista:\n",
        "  lista.append(int(input(\"Ingrese un número para guardar en una lista, con 0 termina la lista (entero): \")))\n",
        "#Eliminar de la lista el número 0\n",
        "lista.remove(0)\n",
        "\n",
        "print(lista)\n",
        "#B. Eliminar el número de la lista, en su primera ocurrencia\n",
        "eliminar= int(input(\"Ingrese un número para comprobar si está en la lista: \"))\n",
        "if eliminar in lista:\n",
        "    lista.remove(eliminar)\n",
        "else:\n",
        "    print(\"Ese número no está entre los ingresados\")\n",
        "\n",
        "print(lista)\n",
        "\n",
        "#C. Sumatoria de los números de la lista\n",
        "#inicializo la variable de sumatoria\n",
        "sum=0\n",
        "for i in lista:\n",
        "  sum= i+ sum\n",
        "\n",
        "print(\"Suma de los números de la lista: \", sum)\n",
        "#D. Lista con los números menores al dado\n",
        "\n",
        "nmayor= int(input(\"Ingrese un número para crear una lista con los números menores que este de la lista: \"))\n",
        "\n",
        "#Inicializo la lista con los números menores\n",
        "menores= []\n",
        "for i in lista:\n",
        "  if i< nmayor:\n",
        "    menores.append(i)\n",
        "\n",
        "print(\"Lista con números menores al dado: \", menores)\n",
        "\n",
        "# E. Generar e imprimir una nueva lista que contenga como elementos a tuplas de dos elementos, \n",
        "#cada una compuesta por un número de la lista original y la cantidad de veces que aparece en ella. \n",
        "#Por ejemplo, si la lista original es [5,16,2,5,57,5,2] la nueva lista contendrá: [(5,3), (16,1), (2,2), (57,1)]\n",
        "\n",
        "lista_tuplas= []\n",
        "for i in lista:\n",
        "  if (i, lista.count(i)) not in lista_tuplas:\n",
        "    lista_tuplas.append((i,lista.count(i)))\n",
        "\n",
        "print(\"Lista de tuplas: \", lista_tuplas)\n"
      ],
      "metadata": {
        "colab": {
          "base_uri": "https://localhost:8080/"
        },
        "id": "YgS5AaWpJ77M",
        "outputId": "e853bf8a-b3bd-4769-979c-089d12046166"
      },
      "execution_count": null,
      "outputs": [
        {
          "output_type": "stream",
          "name": "stdout",
          "text": [
            "Ingrese un número para guardar en una lista, con 0 termina la lista (entero): 8\n",
            "Ingrese un número para guardar en una lista, con 0 termina la lista (entero): 21\n",
            "Ingrese un número para guardar en una lista, con 0 termina la lista (entero): 23\n",
            "Ingrese un número para guardar en una lista, con 0 termina la lista (entero): 16\n",
            "Ingrese un número para guardar en una lista, con 0 termina la lista (entero): 14\n",
            "Ingrese un número para guardar en una lista, con 0 termina la lista (entero): 8\n",
            "Ingrese un número para guardar en una lista, con 0 termina la lista (entero): 21\n",
            "Ingrese un número para guardar en una lista, con 0 termina la lista (entero): 23\n",
            "Ingrese un número para guardar en una lista, con 0 termina la lista (entero): 16\n",
            "Ingrese un número para guardar en una lista, con 0 termina la lista (entero): 8\n",
            "Ingrese un número para guardar en una lista, con 0 termina la lista (entero): 8\n",
            "Ingrese un número para guardar en una lista, con 0 termina la lista (entero): 16\n",
            "Ingrese un número para guardar en una lista, con 0 termina la lista (entero): 0\n",
            "[8, 21, 23, 16, 14, 8, 21, 23, 16, 8, 8, 16]\n",
            "Ingrese un número para comprobar si está en la lista: 16\n",
            "[8, 21, 23, 14, 8, 21, 23, 16, 8, 8, 16]\n",
            "Suma de los números de la lista:  166\n",
            "Ingrese un número para crear una lista con los números menores que este de la lista: 21\n",
            "Lista con números menores al dado:  [8, 14, 8, 16, 8, 8, 16]\n",
            "Lista de tuplas:  [(8, 4), (21, 2), (23, 2), (14, 1), (16, 2)]\n"
          ]
        }
      ]
    },
    {
      "cell_type": "code",
      "source": [
        "#Crear lista vacía\n",
        "lista =list()\n",
        "\n",
        "def sumatoria(lista):\n",
        "    suma=0\n",
        "    for n in lista:\n",
        "        suma+=n\n",
        "    return suma\n",
        "\n",
        " \n",
        "def numerosMenores(lista, limite):\n",
        "    nueva=[]\n",
        "    for n in lista:\n",
        "        if n<limite:\n",
        "            nueva.append(n)\n",
        "    return nueva\n",
        "\n",
        " \n",
        "def frecuencias(lista):\n",
        "    nueva=[]\n",
        "    for n in lista:\n",
        "        if [n, lista.count(n)] not in nueva:\n",
        "            nueva.append([n, lista.count(n)])\n",
        "    return nueva\n",
        "\n",
        " \n",
        "#A\n",
        "numeros=[]\n",
        "nro=int(input(\"Número: \"))\n",
        "while nro!=0:\n",
        "    numeros.append(nro)\n",
        "    nro=int(input(\"Número: \"))\n",
        "#B\n",
        "if eliminar in numeros:\n",
        "    numeros.remove(eliminar)\n",
        "else:\n",
        "    print(\"Ese número no está entre los ingresados\")\n",
        "\n",
        "#C\n",
        "print(\"Sumatoria de los números:\", sumatoria(numeros))\n",
        "eliminar=int(input(\"Número a eliminar: \"))\n",
        "\n",
        "#D\n",
        "limite=int(input(\"Filtrar números menores a: \"))\n",
        "for n in numerosMenores(numeros, limite):\n",
        "    print(n)\n",
        "#E\n",
        "print(\"Frecuencias:\")\n",
        "for tupla in frecuencias(numeros):\n",
        "    print(tupla[0],\"aparece\",tupla[1],\"veces.\")"
      ],
      "metadata": {
        "id": "xBI9ybTRG6Vk"
      },
      "execution_count": null,
      "outputs": []
    },
    {
      "cell_type": "markdown",
      "source": [
        "# **Numpy**\n",
        "## Arrays"
      ],
      "metadata": {
        "id": "cM5lSkwYW715"
      }
    },
    {
      "cell_type": "code",
      "source": [
        "import numpy as np\n",
        "\n",
        "x = np.array([1,2,3,4,5])\n",
        "x\n",
        "print(\"Acceder al atributo tipo con Python (type(x)): \" ,type(x), \"Acceder a dimensión (x.ndim): \",x.ndim, \n",
        "      \", Tamaño total del array: \", x.shape, \", Tipo de sus elementos: \", x.dtype)"
      ],
      "metadata": {
        "colab": {
          "base_uri": "https://localhost:8080/"
        },
        "id": "h5v6DZhCJvXR",
        "outputId": "5e48d04e-f757-48a7-e93f-42145624d7e5"
      },
      "execution_count": null,
      "outputs": [
        {
          "output_type": "stream",
          "name": "stdout",
          "text": [
            "Acceder al atributo tipo con Python (type(x)):  <class 'numpy.ndarray'> Acceder a dimensión (x.ndim):  1 , Tamaño total del array:  (5,) , Tipo de sus elementos:  int64\n"
          ]
        }
      ]
    },
    {
      "cell_type": "markdown",
      "source": [
        "## Matrices"
      ],
      "metadata": {
        "id": "7n058FYqXI6O"
      }
    },
    {
      "cell_type": "code",
      "source": [
        "Matriz = np.array ([[1,2,3], [4,5,6], [7,8,9]])\n",
        "Matriz"
      ],
      "metadata": {
        "colab": {
          "base_uri": "https://localhost:8080/"
        },
        "id": "-rmRWGjBXIi2",
        "outputId": "866e5a56-6651-4229-f6a1-92fb9e9f324a"
      },
      "execution_count": null,
      "outputs": [
        {
          "output_type": "execute_result",
          "data": {
            "text/plain": [
              "array([[1, 2, 3],\n",
              "       [4, 5, 6],\n",
              "       [7, 8, 9]])"
            ]
          },
          "metadata": {},
          "execution_count": 33
        }
      ]
    },
    {
      "cell_type": "code",
      "source": [
        "Matriz.ndim #dimensión"
      ],
      "metadata": {
        "colab": {
          "base_uri": "https://localhost:8080/"
        },
        "id": "AdEpElB_YKaQ",
        "outputId": "45e78829-d4b2-4d55-9e0d-259fbed05d6e"
      },
      "execution_count": null,
      "outputs": [
        {
          "output_type": "execute_result",
          "data": {
            "text/plain": [
              "2"
            ]
          },
          "metadata": {},
          "execution_count": 34
        }
      ]
    },
    {
      "cell_type": "code",
      "source": [
        "Matriz.size #Tamaño"
      ],
      "metadata": {
        "colab": {
          "base_uri": "https://localhost:8080/"
        },
        "id": "GbjozeswYSE5",
        "outputId": "969ff1c7-34b6-4eb5-fc2e-6bfedb90fa43"
      },
      "execution_count": null,
      "outputs": [
        {
          "output_type": "execute_result",
          "data": {
            "text/plain": [
              "9"
            ]
          },
          "metadata": {},
          "execution_count": 35
        }
      ]
    },
    {
      "cell_type": "code",
      "source": [
        "Matriz.shape #Número de filas y columnas"
      ],
      "metadata": {
        "colab": {
          "base_uri": "https://localhost:8080/"
        },
        "id": "DXSNESglYYKk",
        "outputId": "eb592c74-38a0-4fc3-f170-143195d7d941"
      },
      "execution_count": null,
      "outputs": [
        {
          "output_type": "execute_result",
          "data": {
            "text/plain": [
              "(3, 3)"
            ]
          },
          "metadata": {},
          "execution_count": 36
        }
      ]
    },
    {
      "cell_type": "code",
      "source": [
        "Matriz.dtype"
      ],
      "metadata": {
        "colab": {
          "base_uri": "https://localhost:8080/"
        },
        "id": "U7GLKy5BYiYd",
        "outputId": "6c01cea6-f936-411b-f7fa-665b45ce29ac"
      },
      "execution_count": null,
      "outputs": [
        {
          "output_type": "execute_result",
          "data": {
            "text/plain": [
              "dtype('int64')"
            ]
          },
          "metadata": {},
          "execution_count": 37
        }
      ]
    },
    {
      "cell_type": "code",
      "source": [
        "np.eye(5)"
      ],
      "metadata": {
        "colab": {
          "base_uri": "https://localhost:8080/"
        },
        "id": "VUtji3UDZX_E",
        "outputId": "69ed09c0-d1ba-49ca-c10c-b3dc7309ac44"
      },
      "execution_count": null,
      "outputs": [
        {
          "output_type": "execute_result",
          "data": {
            "text/plain": [
              "array([[1., 0., 0., 0., 0.],\n",
              "       [0., 1., 0., 0., 0.],\n",
              "       [0., 0., 1., 0., 0.],\n",
              "       [0., 0., 0., 1., 0.],\n",
              "       [0., 0., 0., 0., 1.]])"
            ]
          },
          "metadata": {},
          "execution_count": 38
        }
      ]
    },
    {
      "cell_type": "code",
      "source": [
        "np.diag((5,4,3,2,1))"
      ],
      "metadata": {
        "colab": {
          "base_uri": "https://localhost:8080/"
        },
        "id": "mJF60fswZbjM",
        "outputId": "f982b86c-d87b-4d79-ae92-58fa0df597c0"
      },
      "execution_count": null,
      "outputs": [
        {
          "output_type": "execute_result",
          "data": {
            "text/plain": [
              "array([[5, 0, 0, 0, 0],\n",
              "       [0, 4, 0, 0, 0],\n",
              "       [0, 0, 3, 0, 0],\n",
              "       [0, 0, 0, 2, 0],\n",
              "       [0, 0, 0, 0, 1]])"
            ]
          },
          "metadata": {},
          "execution_count": 39
        }
      ]
    },
    {
      "cell_type": "markdown",
      "source": [
        "## Valores aleatorios"
      ],
      "metadata": {
        "id": "WgFq6zOMZ0zO"
      }
    },
    {
      "cell_type": "code",
      "source": [
        "np.random.random(9)"
      ],
      "metadata": {
        "colab": {
          "base_uri": "https://localhost:8080/"
        },
        "id": "WpB93zQvZhIk",
        "outputId": "fe14d911-58e6-4e90-9b64-5e14433aeae2"
      },
      "execution_count": null,
      "outputs": [
        {
          "output_type": "execute_result",
          "data": {
            "text/plain": [
              "array([0.85083823, 0.23123959, 0.43258002, 0.19606584, 0.052484  ,\n",
              "       0.47248793, 0.42341613, 0.61730307, 0.81886531])"
            ]
          },
          "metadata": {},
          "execution_count": 41
        }
      ]
    },
    {
      "cell_type": "code",
      "source": [
        "np.random.uniform(1,100,size=9)"
      ],
      "metadata": {
        "colab": {
          "base_uri": "https://localhost:8080/"
        },
        "id": "gl4eUAicZosd",
        "outputId": "4b7bfbd2-e46a-4372-ae32-8ffc89af5add"
      },
      "execution_count": null,
      "outputs": [
        {
          "output_type": "execute_result",
          "data": {
            "text/plain": [
              "array([26.21792464, 16.94240287, 81.08857954, 91.28187976, 24.0177365 ,\n",
              "       96.65102459, 86.30992125, 18.03137372, 77.4245355 ])"
            ]
          },
          "metadata": {},
          "execution_count": 42
        }
      ]
    },
    {
      "cell_type": "code",
      "source": [
        "np.random.normal(0,5, size= 1_000_00)"
      ],
      "metadata": {
        "colab": {
          "base_uri": "https://localhost:8080/"
        },
        "id": "F_BB7biPZ0Al",
        "outputId": "3cdfeeaf-71db-4596-9620-2795782cf8f6"
      },
      "execution_count": null,
      "outputs": [
        {
          "output_type": "execute_result",
          "data": {
            "text/plain": [
              "array([ 7.18139829, -4.4099146 , -9.86897333, ...,  1.79887058,\n",
              "        8.9981177 ,  9.12462252])"
            ]
          },
          "metadata": {},
          "execution_count": 43
        }
      ]
    },
    {
      "cell_type": "code",
      "source": [
        "np.random.choice([\"head\", \"tail\", \"hand\"], size= 1_00)"
      ],
      "metadata": {
        "colab": {
          "base_uri": "https://localhost:8080/"
        },
        "id": "QJG7TCOPaAfM",
        "outputId": "f69e95d6-389b-495b-e021-d713d95c74ac"
      },
      "execution_count": null,
      "outputs": [
        {
          "output_type": "execute_result",
          "data": {
            "text/plain": [
              "array(['hand', 'tail', 'hand', 'tail', 'hand', 'tail', 'tail', 'head',\n",
              "       'head', 'head', 'head', 'tail', 'head', 'head', 'head', 'tail',\n",
              "       'hand', 'hand', 'tail', 'hand', 'head', 'tail', 'tail', 'tail',\n",
              "       'tail', 'head', 'tail', 'hand', 'head', 'hand', 'tail', 'head',\n",
              "       'head', 'hand', 'head', 'head', 'tail', 'hand', 'hand', 'hand',\n",
              "       'hand', 'head', 'head', 'tail', 'head', 'head', 'head', 'head',\n",
              "       'head', 'hand', 'hand', 'hand', 'hand', 'head', 'head', 'tail',\n",
              "       'tail', 'head', 'tail', 'head', 'hand', 'head', 'hand', 'tail',\n",
              "       'tail', 'tail', 'tail', 'hand', 'tail', 'head', 'tail', 'head',\n",
              "       'tail', 'head', 'tail', 'head', 'tail', 'head', 'hand', 'hand',\n",
              "       'head', 'tail', 'head', 'tail', 'tail', 'hand', 'head', 'hand',\n",
              "       'tail', 'tail', 'tail', 'head', 'hand', 'hand', 'head', 'tail',\n",
              "       'head', 'head', 'tail', 'head'], dtype='<U4')"
            ]
          },
          "metadata": {},
          "execution_count": 44
        }
      ]
    },
    {
      "cell_type": "markdown",
      "source": [
        "# **Pandas**\n",
        "## Series"
      ],
      "metadata": {
        "id": "JZjo-LjCsbIn"
      }
    },
    {
      "cell_type": "code",
      "source": [
        "import pandas as pd\n",
        "import numpy as np\n",
        "\n",
        "items1= pd.Series([1,2,3], index= [\"a\", \"b\", \"c\"])\n",
        "items1"
      ],
      "metadata": {
        "id": "a037EsyiaWOs",
        "colab": {
          "base_uri": "https://localhost:8080/"
        },
        "outputId": "c5aa63f4-a9b7-4129-89e0-10becef729dc"
      },
      "execution_count": null,
      "outputs": [
        {
          "output_type": "execute_result",
          "data": {
            "text/plain": [
              "a    1\n",
              "b    2\n",
              "c    3\n",
              "dtype: int64"
            ]
          },
          "metadata": {},
          "execution_count": 4
        }
      ]
    },
    {
      "cell_type": "code",
      "source": [
        "items2= {\"a\": 1, \"b\": 2, \"c\": 3}\n",
        "#Convierto al diccionario como una serie\n",
        "items2=pd.Series(items2, name=\"Nombre\")\n",
        "items2"
      ],
      "metadata": {
        "colab": {
          "base_uri": "https://localhost:8080/"
        },
        "id": "V7Jv4yX0qki4",
        "outputId": "3f0cd25e-e4ad-45ca-88eb-9e0f0205e761"
      },
      "execution_count": null,
      "outputs": [
        {
          "output_type": "execute_result",
          "data": {
            "text/plain": [
              "a    1\n",
              "b    2\n",
              "c    3\n",
              "Name: Nombre, dtype: int64"
            ]
          },
          "metadata": {},
          "execution_count": 11
        }
      ]
    },
    {
      "cell_type": "code",
      "source": [
        "print(\"Tipo de la serie: \",items2.dtype)\n",
        "print(\"Índice de la serie: \",items2.index)\n",
        "print(\"Valores de la serie: \",items2.values)\n",
        "print(\"Nombre de la serie: \",items2.name)\n",
        "print(\"Memoria ocupada por la serie: \",items2.nbytes)\n",
        "print(\"Número de registros de la serie \",items2.size)"
      ],
      "metadata": {
        "colab": {
          "base_uri": "https://localhost:8080/"
        },
        "id": "-8oVpUm7tY2Q",
        "outputId": "5a240e4a-b366-4768-d6ab-cb1091eaddec"
      },
      "execution_count": null,
      "outputs": [
        {
          "output_type": "stream",
          "name": "stdout",
          "text": [
            "Tipo de la serie:  int64\n",
            "Índice de la serie:  Index(['a', 'b', 'c'], dtype='object')\n",
            "Valores de la serie:  [1 2 3]\n",
            "Nombre de la serie:  Nombre\n",
            "Memoria ocupada por la serie:  24\n",
            "Número de registros de la serie  3\n"
          ]
        }
      ]
    },
    {
      "cell_type": "markdown",
      "source": [
        "## Dataframe"
      ],
      "metadata": {
        "id": "rs14_SXrtZy8"
      }
    },
    {
      "cell_type": "code",
      "source": [
        "datos = {\"M\": [1,2,3], \"P\": [4,5,6]}\n",
        "\n",
        "pd.DataFrame(datos)"
      ],
      "metadata": {
        "colab": {
          "base_uri": "https://localhost:8080/",
          "height": 143
        },
        "id": "ESK4f_940kWv",
        "outputId": "53b1f5d7-f0b1-4e33-ad9d-dff91d641b9a"
      },
      "execution_count": null,
      "outputs": [
        {
          "output_type": "execute_result",
          "data": {
            "text/plain": [
              "   M  P\n",
              "0  1  4\n",
              "1  2  5\n",
              "2  3  6"
            ],
            "text/html": [
              "\n",
              "  <div id=\"df-4deba8b6-4a9c-4482-872c-344f67a940d6\">\n",
              "    <div class=\"colab-df-container\">\n",
              "      <div>\n",
              "<style scoped>\n",
              "    .dataframe tbody tr th:only-of-type {\n",
              "        vertical-align: middle;\n",
              "    }\n",
              "\n",
              "    .dataframe tbody tr th {\n",
              "        vertical-align: top;\n",
              "    }\n",
              "\n",
              "    .dataframe thead th {\n",
              "        text-align: right;\n",
              "    }\n",
              "</style>\n",
              "<table border=\"1\" class=\"dataframe\">\n",
              "  <thead>\n",
              "    <tr style=\"text-align: right;\">\n",
              "      <th></th>\n",
              "      <th>M</th>\n",
              "      <th>P</th>\n",
              "    </tr>\n",
              "  </thead>\n",
              "  <tbody>\n",
              "    <tr>\n",
              "      <th>0</th>\n",
              "      <td>1</td>\n",
              "      <td>4</td>\n",
              "    </tr>\n",
              "    <tr>\n",
              "      <th>1</th>\n",
              "      <td>2</td>\n",
              "      <td>5</td>\n",
              "    </tr>\n",
              "    <tr>\n",
              "      <th>2</th>\n",
              "      <td>3</td>\n",
              "      <td>6</td>\n",
              "    </tr>\n",
              "  </tbody>\n",
              "</table>\n",
              "</div>\n",
              "      <button class=\"colab-df-convert\" onclick=\"convertToInteractive('df-4deba8b6-4a9c-4482-872c-344f67a940d6')\"\n",
              "              title=\"Convert this dataframe to an interactive table.\"\n",
              "              style=\"display:none;\">\n",
              "        \n",
              "  <svg xmlns=\"http://www.w3.org/2000/svg\" height=\"24px\"viewBox=\"0 0 24 24\"\n",
              "       width=\"24px\">\n",
              "    <path d=\"M0 0h24v24H0V0z\" fill=\"none\"/>\n",
              "    <path d=\"M18.56 5.44l.94 2.06.94-2.06 2.06-.94-2.06-.94-.94-2.06-.94 2.06-2.06.94zm-11 1L8.5 8.5l.94-2.06 2.06-.94-2.06-.94L8.5 2.5l-.94 2.06-2.06.94zm10 10l.94 2.06.94-2.06 2.06-.94-2.06-.94-.94-2.06-.94 2.06-2.06.94z\"/><path d=\"M17.41 7.96l-1.37-1.37c-.4-.4-.92-.59-1.43-.59-.52 0-1.04.2-1.43.59L10.3 9.45l-7.72 7.72c-.78.78-.78 2.05 0 2.83L4 21.41c.39.39.9.59 1.41.59.51 0 1.02-.2 1.41-.59l7.78-7.78 2.81-2.81c.8-.78.8-2.07 0-2.86zM5.41 20L4 18.59l7.72-7.72 1.47 1.35L5.41 20z\"/>\n",
              "  </svg>\n",
              "      </button>\n",
              "      \n",
              "  <style>\n",
              "    .colab-df-container {\n",
              "      display:flex;\n",
              "      flex-wrap:wrap;\n",
              "      gap: 12px;\n",
              "    }\n",
              "\n",
              "    .colab-df-convert {\n",
              "      background-color: #E8F0FE;\n",
              "      border: none;\n",
              "      border-radius: 50%;\n",
              "      cursor: pointer;\n",
              "      display: none;\n",
              "      fill: #1967D2;\n",
              "      height: 32px;\n",
              "      padding: 0 0 0 0;\n",
              "      width: 32px;\n",
              "    }\n",
              "\n",
              "    .colab-df-convert:hover {\n",
              "      background-color: #E2EBFA;\n",
              "      box-shadow: 0px 1px 2px rgba(60, 64, 67, 0.3), 0px 1px 3px 1px rgba(60, 64, 67, 0.15);\n",
              "      fill: #174EA6;\n",
              "    }\n",
              "\n",
              "    [theme=dark] .colab-df-convert {\n",
              "      background-color: #3B4455;\n",
              "      fill: #D2E3FC;\n",
              "    }\n",
              "\n",
              "    [theme=dark] .colab-df-convert:hover {\n",
              "      background-color: #434B5C;\n",
              "      box-shadow: 0px 1px 3px 1px rgba(0, 0, 0, 0.15);\n",
              "      filter: drop-shadow(0px 1px 2px rgba(0, 0, 0, 0.3));\n",
              "      fill: #FFFFFF;\n",
              "    }\n",
              "  </style>\n",
              "\n",
              "      <script>\n",
              "        const buttonEl =\n",
              "          document.querySelector('#df-4deba8b6-4a9c-4482-872c-344f67a940d6 button.colab-df-convert');\n",
              "        buttonEl.style.display =\n",
              "          google.colab.kernel.accessAllowed ? 'block' : 'none';\n",
              "\n",
              "        async function convertToInteractive(key) {\n",
              "          const element = document.querySelector('#df-4deba8b6-4a9c-4482-872c-344f67a940d6');\n",
              "          const dataTable =\n",
              "            await google.colab.kernel.invokeFunction('convertToInteractive',\n",
              "                                                     [key], {});\n",
              "          if (!dataTable) return;\n",
              "\n",
              "          const docLinkHtml = 'Like what you see? Visit the ' +\n",
              "            '<a target=\"_blank\" href=https://colab.research.google.com/notebooks/data_table.ipynb>data table notebook</a>'\n",
              "            + ' to learn more about interactive tables.';\n",
              "          element.innerHTML = '';\n",
              "          dataTable['output_type'] = 'display_data';\n",
              "          await google.colab.output.renderOutput(dataTable, element);\n",
              "          const docLink = document.createElement('div');\n",
              "          docLink.innerHTML = docLinkHtml;\n",
              "          element.appendChild(docLink);\n",
              "        }\n",
              "      </script>\n",
              "    </div>\n",
              "  </div>\n",
              "  "
            ]
          },
          "metadata": {},
          "execution_count": 19
        }
      ]
    },
    {
      "cell_type": "code",
      "source": [
        "# Celda de código para probar\n",
        "#con diccionarios\n",
        "import pandas as pd\n",
        "import numpy as np\n",
        "nombre_curso= [\"Fundamentos de Estadística\", \"Programación\", \"Seminario\"]\n",
        "nombre_prof= [\"Mariana\", \"Jorge Victorino\", \"Jorge Mejía\"]\n",
        "hora_inicio =[6, 6, 11]\n",
        "dia_clase =[\"jueves\", \"viernes\", \"sábado\"]\n",
        "c_horas= [5, 4, 3]\n",
        "semestre = [1, 1, 1]\n",
        "\n",
        "horario = pd.DataFrame({\"Nombre del curso\": nombre_curso, \"Nombre del profesor\": nombre_prof, \"Hora de inicio\": hora_inicio,\n",
        "                       \"Dia\": dia_clase, \"No. Horas\": c_horas, \"Semestre\": semestre})\n",
        "horario"
      ],
      "metadata": {
        "colab": {
          "base_uri": "https://localhost:8080/",
          "height": 143
        },
        "id": "w-Cy3g9z5A28",
        "outputId": "cb596808-ef3d-4fab-e3f0-33ff9780106e"
      },
      "execution_count": null,
      "outputs": [
        {
          "output_type": "execute_result",
          "data": {
            "text/plain": [
              "             Nombre del curso Nombre del profesor  Hora de inicio      Dia  \\\n",
              "0  Fundamentos de Estadística             Mariana               6   jueves   \n",
              "1                Programación     Jorge Victorino               6  viernes   \n",
              "2                   Seminario         Jorge Mejía              11   sábado   \n",
              "\n",
              "   No. Horas  Semestre  \n",
              "0          5         1  \n",
              "1          4         1  \n",
              "2          3         1  "
            ],
            "text/html": [
              "\n",
              "  <div id=\"df-60fccf4e-7cbf-474c-bcd5-c3c157af8c0c\">\n",
              "    <div class=\"colab-df-container\">\n",
              "      <div>\n",
              "<style scoped>\n",
              "    .dataframe tbody tr th:only-of-type {\n",
              "        vertical-align: middle;\n",
              "    }\n",
              "\n",
              "    .dataframe tbody tr th {\n",
              "        vertical-align: top;\n",
              "    }\n",
              "\n",
              "    .dataframe thead th {\n",
              "        text-align: right;\n",
              "    }\n",
              "</style>\n",
              "<table border=\"1\" class=\"dataframe\">\n",
              "  <thead>\n",
              "    <tr style=\"text-align: right;\">\n",
              "      <th></th>\n",
              "      <th>Nombre del curso</th>\n",
              "      <th>Nombre del profesor</th>\n",
              "      <th>Hora de inicio</th>\n",
              "      <th>Dia</th>\n",
              "      <th>No. Horas</th>\n",
              "      <th>Semestre</th>\n",
              "    </tr>\n",
              "  </thead>\n",
              "  <tbody>\n",
              "    <tr>\n",
              "      <th>0</th>\n",
              "      <td>Fundamentos de Estadística</td>\n",
              "      <td>Mariana</td>\n",
              "      <td>6</td>\n",
              "      <td>jueves</td>\n",
              "      <td>5</td>\n",
              "      <td>1</td>\n",
              "    </tr>\n",
              "    <tr>\n",
              "      <th>1</th>\n",
              "      <td>Programación</td>\n",
              "      <td>Jorge Victorino</td>\n",
              "      <td>6</td>\n",
              "      <td>viernes</td>\n",
              "      <td>4</td>\n",
              "      <td>1</td>\n",
              "    </tr>\n",
              "    <tr>\n",
              "      <th>2</th>\n",
              "      <td>Seminario</td>\n",
              "      <td>Jorge Mejía</td>\n",
              "      <td>11</td>\n",
              "      <td>sábado</td>\n",
              "      <td>3</td>\n",
              "      <td>1</td>\n",
              "    </tr>\n",
              "  </tbody>\n",
              "</table>\n",
              "</div>\n",
              "      <button class=\"colab-df-convert\" onclick=\"convertToInteractive('df-60fccf4e-7cbf-474c-bcd5-c3c157af8c0c')\"\n",
              "              title=\"Convert this dataframe to an interactive table.\"\n",
              "              style=\"display:none;\">\n",
              "        \n",
              "  <svg xmlns=\"http://www.w3.org/2000/svg\" height=\"24px\"viewBox=\"0 0 24 24\"\n",
              "       width=\"24px\">\n",
              "    <path d=\"M0 0h24v24H0V0z\" fill=\"none\"/>\n",
              "    <path d=\"M18.56 5.44l.94 2.06.94-2.06 2.06-.94-2.06-.94-.94-2.06-.94 2.06-2.06.94zm-11 1L8.5 8.5l.94-2.06 2.06-.94-2.06-.94L8.5 2.5l-.94 2.06-2.06.94zm10 10l.94 2.06.94-2.06 2.06-.94-2.06-.94-.94-2.06-.94 2.06-2.06.94z\"/><path d=\"M17.41 7.96l-1.37-1.37c-.4-.4-.92-.59-1.43-.59-.52 0-1.04.2-1.43.59L10.3 9.45l-7.72 7.72c-.78.78-.78 2.05 0 2.83L4 21.41c.39.39.9.59 1.41.59.51 0 1.02-.2 1.41-.59l7.78-7.78 2.81-2.81c.8-.78.8-2.07 0-2.86zM5.41 20L4 18.59l7.72-7.72 1.47 1.35L5.41 20z\"/>\n",
              "  </svg>\n",
              "      </button>\n",
              "      \n",
              "  <style>\n",
              "    .colab-df-container {\n",
              "      display:flex;\n",
              "      flex-wrap:wrap;\n",
              "      gap: 12px;\n",
              "    }\n",
              "\n",
              "    .colab-df-convert {\n",
              "      background-color: #E8F0FE;\n",
              "      border: none;\n",
              "      border-radius: 50%;\n",
              "      cursor: pointer;\n",
              "      display: none;\n",
              "      fill: #1967D2;\n",
              "      height: 32px;\n",
              "      padding: 0 0 0 0;\n",
              "      width: 32px;\n",
              "    }\n",
              "\n",
              "    .colab-df-convert:hover {\n",
              "      background-color: #E2EBFA;\n",
              "      box-shadow: 0px 1px 2px rgba(60, 64, 67, 0.3), 0px 1px 3px 1px rgba(60, 64, 67, 0.15);\n",
              "      fill: #174EA6;\n",
              "    }\n",
              "\n",
              "    [theme=dark] .colab-df-convert {\n",
              "      background-color: #3B4455;\n",
              "      fill: #D2E3FC;\n",
              "    }\n",
              "\n",
              "    [theme=dark] .colab-df-convert:hover {\n",
              "      background-color: #434B5C;\n",
              "      box-shadow: 0px 1px 3px 1px rgba(0, 0, 0, 0.15);\n",
              "      filter: drop-shadow(0px 1px 2px rgba(0, 0, 0, 0.3));\n",
              "      fill: #FFFFFF;\n",
              "    }\n",
              "  </style>\n",
              "\n",
              "      <script>\n",
              "        const buttonEl =\n",
              "          document.querySelector('#df-60fccf4e-7cbf-474c-bcd5-c3c157af8c0c button.colab-df-convert');\n",
              "        buttonEl.style.display =\n",
              "          google.colab.kernel.accessAllowed ? 'block' : 'none';\n",
              "\n",
              "        async function convertToInteractive(key) {\n",
              "          const element = document.querySelector('#df-60fccf4e-7cbf-474c-bcd5-c3c157af8c0c');\n",
              "          const dataTable =\n",
              "            await google.colab.kernel.invokeFunction('convertToInteractive',\n",
              "                                                     [key], {});\n",
              "          if (!dataTable) return;\n",
              "\n",
              "          const docLinkHtml = 'Like what you see? Visit the ' +\n",
              "            '<a target=\"_blank\" href=https://colab.research.google.com/notebooks/data_table.ipynb>data table notebook</a>'\n",
              "            + ' to learn more about interactive tables.';\n",
              "          element.innerHTML = '';\n",
              "          dataTable['output_type'] = 'display_data';\n",
              "          await google.colab.output.renderOutput(dataTable, element);\n",
              "          const docLink = document.createElement('div');\n",
              "          docLink.innerHTML = docLinkHtml;\n",
              "          element.appendChild(docLink);\n",
              "        }\n",
              "      </script>\n",
              "    </div>\n",
              "  </div>\n",
              "  "
            ]
          },
          "metadata": {},
          "execution_count": 20
        }
      ]
    },
    {
      "cell_type": "code",
      "source": [
        "# Celda de código para probar\n",
        "# Abrir los archivos\n",
        "import pandas as pd\n",
        "import numpy as np\n",
        "# Función para abrir archivo\n",
        "def recibe_fun (archivo):\n",
        "  dfi=pd.read_csv(archivo, sep=',', encoding='utf-8', error_bad_lines=False)\n",
        "  return dfi\n",
        "  print(dfi.head(10))\n",
        "recibe_fun(\"iris.csv\")"
      ],
      "metadata": {
        "id": "Xf1OSkWLCVKI"
      },
      "execution_count": null,
      "outputs": []
    },
    {
      "cell_type": "code",
      "source": [
        "#Guardar el archivo csv en dfi\n",
        "dfi=pd.read_csv(\"iris.csv\", sep=',', encoding='utf-8', error_bad_lines=False)\n",
        "\n",
        "#Hacer una lista con las columnas del archivo csv\n",
        "nombre_col= list(dfi.columns)\n",
        "#inicializo listas vacías\n",
        "tipol= []\n",
        "mxl=[]\n",
        "mnl=[]\n",
        "c_datosnul= []\n",
        "lvalorunic= []\n",
        "lv_frec= []\n",
        "#Contador en 0\n",
        "i=0\n",
        "rango= dfi.index\n",
        "c_datos=len(dfi)\n",
        "\n",
        "tipoL= list(dfi.dtypes) \n",
        "mxL= list(dfi.max())\n",
        "mnL= list(dfi.min())\n",
        "no_nulos = list(c_datos-dfi.isnull().sum())\n",
        "v_unico = list(dfi.groupby(nombre_col[0]).nunique().sum())\n",
        "v_frecuente= list(dfi.mode())\n",
        "\n",
        "#Con la función zip(), iteramos sobre las múltiples listas en paralelo\n",
        "registro= list(zip(tipoL, mxL, mnL, no_nulos, v_unico, v_frecuente))\n",
        "#print(registro)\n",
        "dfidesc= pd.DataFrame(registro, columns= ['Tipo', 'Máximo', 'Mínimo', \"Valores no nulos\", \"Valores únicos\", \"Valores frec\"])\n",
        "print(dfidesc)\n",
        "dfi.describe()"
      ],
      "metadata": {
        "colab": {
          "base_uri": "https://localhost:8080/",
          "height": 476
        },
        "id": "dYkss1J6_mjP",
        "outputId": "d8aa6f24-b7bd-40b6-bceb-6f59847f4ac5"
      },
      "execution_count": null,
      "outputs": [
        {
          "output_type": "stream",
          "name": "stdout",
          "text": [
            "      Tipo  Máximo  Mínimo  Valores no nulos  Valores únicos  Valores frec\n",
            "0  float64     7.9     4.3               150             117  sepal.length\n",
            "1  float64     4.4     2.0               150             123   sepal.width\n",
            "2  float64     6.9     1.0               150             110  petal.length\n",
            "3  float64     2.5     0.1               150              57   petal.width\n"
          ]
        },
        {
          "output_type": "stream",
          "name": "stderr",
          "text": [
            "/usr/local/lib/python3.7/dist-packages/IPython/core/interactiveshell.py:2882: FutureWarning: The error_bad_lines argument has been deprecated and will be removed in a future version.\n",
            "\n",
            "\n",
            "  exec(code_obj, self.user_global_ns, self.user_ns)\n"
          ]
        },
        {
          "output_type": "execute_result",
          "data": {
            "text/plain": [
              "       sepal.length  sepal.width  petal.length  petal.width\n",
              "count    150.000000   150.000000    150.000000   150.000000\n",
              "mean       5.843333     3.057333      3.758000     1.199333\n",
              "std        0.828066     0.435866      1.765298     0.762238\n",
              "min        4.300000     2.000000      1.000000     0.100000\n",
              "25%        5.100000     2.800000      1.600000     0.300000\n",
              "50%        5.800000     3.000000      4.350000     1.300000\n",
              "75%        6.400000     3.300000      5.100000     1.800000\n",
              "max        7.900000     4.400000      6.900000     2.500000"
            ],
            "text/html": [
              "\n",
              "  <div id=\"df-bcc7d420-59a3-447b-bb1d-88ffd91f678a\">\n",
              "    <div class=\"colab-df-container\">\n",
              "      <div>\n",
              "<style scoped>\n",
              "    .dataframe tbody tr th:only-of-type {\n",
              "        vertical-align: middle;\n",
              "    }\n",
              "\n",
              "    .dataframe tbody tr th {\n",
              "        vertical-align: top;\n",
              "    }\n",
              "\n",
              "    .dataframe thead th {\n",
              "        text-align: right;\n",
              "    }\n",
              "</style>\n",
              "<table border=\"1\" class=\"dataframe\">\n",
              "  <thead>\n",
              "    <tr style=\"text-align: right;\">\n",
              "      <th></th>\n",
              "      <th>sepal.length</th>\n",
              "      <th>sepal.width</th>\n",
              "      <th>petal.length</th>\n",
              "      <th>petal.width</th>\n",
              "    </tr>\n",
              "  </thead>\n",
              "  <tbody>\n",
              "    <tr>\n",
              "      <th>count</th>\n",
              "      <td>150.000000</td>\n",
              "      <td>150.000000</td>\n",
              "      <td>150.000000</td>\n",
              "      <td>150.000000</td>\n",
              "    </tr>\n",
              "    <tr>\n",
              "      <th>mean</th>\n",
              "      <td>5.843333</td>\n",
              "      <td>3.057333</td>\n",
              "      <td>3.758000</td>\n",
              "      <td>1.199333</td>\n",
              "    </tr>\n",
              "    <tr>\n",
              "      <th>std</th>\n",
              "      <td>0.828066</td>\n",
              "      <td>0.435866</td>\n",
              "      <td>1.765298</td>\n",
              "      <td>0.762238</td>\n",
              "    </tr>\n",
              "    <tr>\n",
              "      <th>min</th>\n",
              "      <td>4.300000</td>\n",
              "      <td>2.000000</td>\n",
              "      <td>1.000000</td>\n",
              "      <td>0.100000</td>\n",
              "    </tr>\n",
              "    <tr>\n",
              "      <th>25%</th>\n",
              "      <td>5.100000</td>\n",
              "      <td>2.800000</td>\n",
              "      <td>1.600000</td>\n",
              "      <td>0.300000</td>\n",
              "    </tr>\n",
              "    <tr>\n",
              "      <th>50%</th>\n",
              "      <td>5.800000</td>\n",
              "      <td>3.000000</td>\n",
              "      <td>4.350000</td>\n",
              "      <td>1.300000</td>\n",
              "    </tr>\n",
              "    <tr>\n",
              "      <th>75%</th>\n",
              "      <td>6.400000</td>\n",
              "      <td>3.300000</td>\n",
              "      <td>5.100000</td>\n",
              "      <td>1.800000</td>\n",
              "    </tr>\n",
              "    <tr>\n",
              "      <th>max</th>\n",
              "      <td>7.900000</td>\n",
              "      <td>4.400000</td>\n",
              "      <td>6.900000</td>\n",
              "      <td>2.500000</td>\n",
              "    </tr>\n",
              "  </tbody>\n",
              "</table>\n",
              "</div>\n",
              "      <button class=\"colab-df-convert\" onclick=\"convertToInteractive('df-bcc7d420-59a3-447b-bb1d-88ffd91f678a')\"\n",
              "              title=\"Convert this dataframe to an interactive table.\"\n",
              "              style=\"display:none;\">\n",
              "        \n",
              "  <svg xmlns=\"http://www.w3.org/2000/svg\" height=\"24px\"viewBox=\"0 0 24 24\"\n",
              "       width=\"24px\">\n",
              "    <path d=\"M0 0h24v24H0V0z\" fill=\"none\"/>\n",
              "    <path d=\"M18.56 5.44l.94 2.06.94-2.06 2.06-.94-2.06-.94-.94-2.06-.94 2.06-2.06.94zm-11 1L8.5 8.5l.94-2.06 2.06-.94-2.06-.94L8.5 2.5l-.94 2.06-2.06.94zm10 10l.94 2.06.94-2.06 2.06-.94-2.06-.94-.94-2.06-.94 2.06-2.06.94z\"/><path d=\"M17.41 7.96l-1.37-1.37c-.4-.4-.92-.59-1.43-.59-.52 0-1.04.2-1.43.59L10.3 9.45l-7.72 7.72c-.78.78-.78 2.05 0 2.83L4 21.41c.39.39.9.59 1.41.59.51 0 1.02-.2 1.41-.59l7.78-7.78 2.81-2.81c.8-.78.8-2.07 0-2.86zM5.41 20L4 18.59l7.72-7.72 1.47 1.35L5.41 20z\"/>\n",
              "  </svg>\n",
              "      </button>\n",
              "      \n",
              "  <style>\n",
              "    .colab-df-container {\n",
              "      display:flex;\n",
              "      flex-wrap:wrap;\n",
              "      gap: 12px;\n",
              "    }\n",
              "\n",
              "    .colab-df-convert {\n",
              "      background-color: #E8F0FE;\n",
              "      border: none;\n",
              "      border-radius: 50%;\n",
              "      cursor: pointer;\n",
              "      display: none;\n",
              "      fill: #1967D2;\n",
              "      height: 32px;\n",
              "      padding: 0 0 0 0;\n",
              "      width: 32px;\n",
              "    }\n",
              "\n",
              "    .colab-df-convert:hover {\n",
              "      background-color: #E2EBFA;\n",
              "      box-shadow: 0px 1px 2px rgba(60, 64, 67, 0.3), 0px 1px 3px 1px rgba(60, 64, 67, 0.15);\n",
              "      fill: #174EA6;\n",
              "    }\n",
              "\n",
              "    [theme=dark] .colab-df-convert {\n",
              "      background-color: #3B4455;\n",
              "      fill: #D2E3FC;\n",
              "    }\n",
              "\n",
              "    [theme=dark] .colab-df-convert:hover {\n",
              "      background-color: #434B5C;\n",
              "      box-shadow: 0px 1px 3px 1px rgba(0, 0, 0, 0.15);\n",
              "      filter: drop-shadow(0px 1px 2px rgba(0, 0, 0, 0.3));\n",
              "      fill: #FFFFFF;\n",
              "    }\n",
              "  </style>\n",
              "\n",
              "      <script>\n",
              "        const buttonEl =\n",
              "          document.querySelector('#df-bcc7d420-59a3-447b-bb1d-88ffd91f678a button.colab-df-convert');\n",
              "        buttonEl.style.display =\n",
              "          google.colab.kernel.accessAllowed ? 'block' : 'none';\n",
              "\n",
              "        async function convertToInteractive(key) {\n",
              "          const element = document.querySelector('#df-bcc7d420-59a3-447b-bb1d-88ffd91f678a');\n",
              "          const dataTable =\n",
              "            await google.colab.kernel.invokeFunction('convertToInteractive',\n",
              "                                                     [key], {});\n",
              "          if (!dataTable) return;\n",
              "\n",
              "          const docLinkHtml = 'Like what you see? Visit the ' +\n",
              "            '<a target=\"_blank\" href=https://colab.research.google.com/notebooks/data_table.ipynb>data table notebook</a>'\n",
              "            + ' to learn more about interactive tables.';\n",
              "          element.innerHTML = '';\n",
              "          dataTable['output_type'] = 'display_data';\n",
              "          await google.colab.output.renderOutput(dataTable, element);\n",
              "          const docLink = document.createElement('div');\n",
              "          docLink.innerHTML = docLinkHtml;\n",
              "          element.appendChild(docLink);\n",
              "        }\n",
              "      </script>\n",
              "    </div>\n",
              "  </div>\n",
              "  "
            ]
          },
          "metadata": {},
          "execution_count": 24
        }
      ]
    },
    {
      "cell_type": "code",
      "source": [
        ""
      ],
      "metadata": {
        "id": "7EHF6t4L_lX5"
      },
      "execution_count": null,
      "outputs": []
    }
  ]
}